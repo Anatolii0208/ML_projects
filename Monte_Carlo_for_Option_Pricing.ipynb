{
  "nbformat": 4,
  "nbformat_minor": 0,
  "metadata": {
    "colab": {
      "provenance": [],
      "authorship_tag": "ABX9TyNZBkCyEC44UoK+nFF07nuT",
      "include_colab_link": true
    },
    "kernelspec": {
      "name": "python3",
      "display_name": "Python 3"
    },
    "language_info": {
      "name": "python"
    }
  },
  "cells": [
    {
      "cell_type": "markdown",
      "metadata": {
        "id": "view-in-github",
        "colab_type": "text"
      },
      "source": [
        "<a href=\"https://colab.research.google.com/github/Anatolii0208/ML_projects/blob/main/Monte_Carlo_for_Option_Pricing.ipynb\" target=\"_parent\"><img src=\"https://colab.research.google.com/assets/colab-badge.svg\" alt=\"Open In Colab\"/></a>"
      ]
    },
    {
      "cell_type": "code",
      "execution_count": 1,
      "metadata": {
        "id": "YZx5ZpN1KDJt"
      },
      "outputs": [],
      "source": [
        "# Import libraries\n",
        "import numpy as np\n",
        "import pandas as pd\n",
        "import scipy.stats as stats\n",
        "import matplotlib.pyplot as plt\n",
        "from pandas_datareader import data as pdr\n",
        "import math\n",
        "import datetime"
      ]
    },
    {
      "cell_type": "code",
      "source": [
        "# initial derivative parameters\n",
        "S = 101.15          #stock price\n",
        "K = 98.01           #strike price\n",
        "vol = 0.0991        #volatility (%)\n",
        "r = 0.01            #risk-free rate (%)\n",
        "N = 10              #number of time steps\n",
        "M = 1000            #number of simulations\n",
        "\n",
        "market_value = 3.86 #market price of option\n",
        "T = ((datetime.date(2022,3,17)-datetime.date(2022,1,17)).days+1)/365    #time in years\n",
        "print(T)"
      ],
      "metadata": {
        "colab": {
          "base_uri": "https://localhost:8080/"
        },
        "id": "olacup1ES7hw",
        "outputId": "32d0ad01-4651-44ba-b264-76a023b8df3b"
      },
      "execution_count": 3,
      "outputs": [
        {
          "output_type": "stream",
          "name": "stdout",
          "text": [
            "0.1643835616438356\n"
          ]
        }
      ]
    },
    {
      "cell_type": "markdown",
      "metadata": {
        "id": "6e8f2d34"
      },
      "source": [
        "Monte Carlo simulation to estimate the price of a European call option.\n",
        "\n",
        "1. **Constants**:\n",
        "I calculate constants like `dt`, `nudt`, and `volsdt` for efficiency in the simulation loop.\n",
        "2. **Standard Error Variables**: I initialise variables `sum_CT` and `sum_CT2` to accumulate values needed for calculating the option price and its standard error.\n",
        "3. **Monte Carlo Method**:\n",
        "    - The outer loop runs `M` times, representing the number of simulations.\n",
        "    - The inner loop simulates the stock price path over `N` time steps using a geometric Brownian motion model.\n",
        "    - `lnSt` is the natural logarithm of the stock price at each time step.\n",
        "    - `np.random.normal()` generates random numbers from a standard normal distribution.\n",
        "    - `ST` is the simulated stock price at maturity.\n",
        "    - `CT` is the payoff of the call option at maturity, which is the maximum of 0 and `ST - K`.\n",
        "    - `sum_CT` and `sum_CT2` accumulate the sum of payoffs and the sum of squared payoffs, respectively.\n",
        "4. **Compute Expectation and SE**:\n",
        "    - `C0` calculates the estimated call option price by taking the average of the discounted payoffs.\n",
        "    - `sigma` calculates the standard deviation of the discounted payoffs.\n",
        "    - `SE` calculates the standard error of the estimated call option price."
      ]
    },
    {
      "cell_type": "code",
      "source": [
        "# Precompute constants\n",
        "dt = T/N\n",
        "nudt = (r - 0.5*vol**2)*dt\n",
        "volsdt = vol*np.sqrt(dt)\n",
        "lnS = np.log(S)\n",
        "\n",
        "# Standard Error Placeholders\n",
        "sum_CT = 0\n",
        "sum_CT2 = 0\n",
        "\n",
        "# Monte Carlo Method\n",
        "for i in range(M):\n",
        "    lnSt = lnS\n",
        "    for j in range(N):\n",
        "        lnSt = lnSt + nudt + volsdt*np.random.normal()\n",
        "\n",
        "    ST = np.exp(lnSt)\n",
        "    CT = max(0, ST - K)\n",
        "    sum_CT = sum_CT + CT\n",
        "    sum_CT2 = sum_CT2 + CT*CT\n",
        "\n",
        "# Compute Expectation and SE\n",
        "C0 = np.exp(-r*T)*sum_CT/M\n",
        "sigma = np.sqrt( (sum_CT2 - sum_CT*sum_CT/M)*np.exp(-2*r*T) / (M-1) )\n",
        "SE = sigma/np.sqrt(M)\n",
        "\n",
        "print(\"Call value is ${0} with SE +/- {1}\".format(np.round(C0,2),np.round(SE,2)))\n"
      ],
      "metadata": {
        "colab": {
          "base_uri": "https://localhost:8080/"
        },
        "id": "Ld6JdUAOVL90",
        "outputId": "f8ba5ae8-bfa6-4369-b3aa-30c6736251fb"
      },
      "execution_count": 4,
      "outputs": [
        {
          "output_type": "stream",
          "name": "stdout",
          "text": [
            "Call value is $3.75 with SE +/- 0.1\n"
          ]
        }
      ]
    },
    {
      "cell_type": "code",
      "source": [
        "x1 = np.linspace(C0-3*SE, C0-1*SE, 100)\n",
        "x2 = np.linspace(C0-1*SE, C0+1*SE, 100)\n",
        "x3 = np.linspace(C0+1*SE, C0+3*SE, 100)\n",
        "\n",
        "s1 = stats.norm.pdf(x1, C0, SE)\n",
        "s2 = stats.norm.pdf(x2, C0, SE)\n",
        "s3 = stats.norm.pdf(x3, C0, SE)\n",
        "\n",
        "plt.fill_between(x1, s1, color='tab:blue',label='> StDev')\n",
        "plt.fill_between(x2, s2, color='cornflowerblue',label='1 StDev')\n",
        "plt.fill_between(x3, s3, color='tab:blue')\n",
        "\n",
        "plt.plot([C0,C0],[0, max(s2)*1.1], 'k',\n",
        "        label='Theoretical Value')\n",
        "plt.plot([market_value,market_value],[0, max(s2)*1.1], 'r',\n",
        "        label='Market Value')\n",
        "\n",
        "plt.ylabel(\"Probability\")\n",
        "plt.xlabel(\"Option Price\")\n",
        "plt.legend()\n",
        "plt.show()\n"
      ],
      "metadata": {
        "colab": {
          "base_uri": "https://localhost:8080/",
          "height": 449
        },
        "id": "kmuf7xfvYEl5",
        "outputId": "c1458a73-71ea-4817-d18e-25770e1f2b2c"
      },
      "execution_count": 6,
      "outputs": [
        {
          "output_type": "display_data",
          "data": {
            "text/plain": [
              "<Figure size 640x480 with 1 Axes>"
            ],
            "image/png": "[encoded data removed]"
          },
          "metadata": {}
        }
      ]
    }
  ]
}
